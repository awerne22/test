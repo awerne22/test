{
 "cells": [
  {
   "cell_type": "code",
   "execution_count": 2,
   "id": "f08ae0c8",
   "metadata": {},
   "outputs": [],
   "source": [
    "import os\n",
    "import cv2\n",
    "import concurrent"
   ]
  },
  {
   "cell_type": "code",
   "execution_count": 72,
   "id": "60a89840",
   "metadata": {},
   "outputs": [],
   "source": [
    "# Class to perform image processing using cv2\n",
    "class ImageProcessor:\n",
    "    #@staticmethod\n",
    "    def process_image(image_name):\n",
    "        # Load the image using cv2 \n",
    "        img = cv2.imread(\"images/\"+image_name)\n",
    "        # Apply a simple filter for demonstration purposes\n",
    "        img_processed = cv2.GaussianBlur(img, (5, 5), 0)\n",
    "        # Save the processed image\n",
    "        cv2.imwrite(\"output/\"+image_name, img_processed)\n",
    "        print(\"procesed\"+image_name)\n",
    "        #return output_path"
   ]
  },
  {
   "cell_type": "code",
   "execution_count": 76,
   "id": "a2bc2573",
   "metadata": {},
   "outputs": [],
   "source": [
    "def process_image(image_name):\n",
    "    # Load the image using cv2 \n",
    "    img = cv2.imread(\"images/\"+image_name)\n",
    "    # Apply a simple filter for demonstration purposes\n",
    "    img_processed = cv2.GaussianBlur(img, (5, 5), 0)\n",
    "    # Save the processed image\n",
    "    cv2.imwrite(\"output/\"+image_name, img_processed)\n",
    "    print(\"procesed\"+image_name)\n",
    "    #return output_path"
   ]
  },
  {
   "cell_type": "code",
   "execution_count": 77,
   "id": "7f66d54c",
   "metadata": {},
   "outputs": [],
   "source": [
    "img_name=[]\n",
    "for i in os.listdir(\"images/\"):\n",
    "    img_name.append(i)\n"
   ]
  },
  {
   "cell_type": "code",
   "execution_count": 79,
   "id": "d6cb6c4e",
   "metadata": {},
   "outputs": [],
   "source": [
    "from concurrent.futures import ProcessPoolExecutor"
   ]
  },
  {
   "cell_type": "code",
   "execution_count": 80,
   "id": "40c04af4",
   "metadata": {},
   "outputs": [],
   "source": [
    "with ProcessPoolExecutor() as executor:\n",
    "    executor.map(process_image,img_name)"
   ]
  },
  {
   "cell_type": "code",
   "execution_count": 66,
   "id": "3d698659",
   "metadata": {},
   "outputs": [
    {
     "data": {
      "text/plain": [
       "<map at 0x23247219750>"
      ]
     },
     "execution_count": 66,
     "metadata": {},
     "output_type": "execute_result"
    }
   ],
   "source": [
    "for i in img_name:\n",
    "    ImageProcessor.process_image(i)"
   ]
  },
  {
   "cell_type": "code",
   "execution_count": 65,
   "id": "80d6f232",
   "metadata": {},
   "outputs": [],
   "source": [
    "with concurrent.futures.ProcessPoolExecutor() as executor:\n",
    "    executor.map(ImageProcessor.process_image,img_name)"
   ]
  },
  {
   "cell_type": "code",
   "execution_count": null,
   "id": "a1a04cf3",
   "metadata": {},
   "outputs": [],
   "source": []
  }
 ],
 "metadata": {
  "kernelspec": {
   "display_name": "Python 3 (ipykernel)",
   "language": "python",
   "name": "python3"
  },
  "language_info": {
   "codemirror_mode": {
    "name": "ipython",
    "version": 3
   },
   "file_extension": ".py",
   "mimetype": "text/x-python",
   "name": "python",
   "nbconvert_exporter": "python",
   "pygments_lexer": "ipython3",
   "version": "3.11.2"
  }
 },
 "nbformat": 4,
 "nbformat_minor": 5
}
