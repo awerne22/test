{
 "cells": [
  {
   "cell_type": "code",
   "execution_count": 2,
   "id": "f08ae0c8",
   "metadata": {},
   "outputs": [],
   "source": [
    "import os\n",
    "import cv2\n",
    "from concurrent.futures import ProcessPoolExecutor"
   ]
  },
  {
   "cell_type": "code",
   "execution_count": null,
   "id": "51ebb7cd",
   "metadata": {},
   "outputs": [],
   "source": []
  },
  {
   "cell_type": "code",
   "execution_count": 3,
   "id": "60a89840",
   "metadata": {},
   "outputs": [],
   "source": [
    "# Class to perform image processing using cv2\n",
    "class ImageProcessor:\n",
    "    @staticmethod\n",
    "    def process_image(image_name):\n",
    "        # Load the image using cv2 \n",
    "        img = cv2.imread(\"images/\"+image_name)\n",
    "        # Apply a simple filter for demonstration purposes\n",
    "        img_processed = cv2.GaussianBlur(img, (5, 5), 0)\n",
    "        # Save the processed image\n",
    "        cv2.imwrite(\"output/\"+image_name, img_processed)\n",
    "        print(\"procesed\"+image_name)\n",
    "        #return output_path"
   ]
  },
  {
   "cell_type": "code",
   "execution_count": 4,
   "id": "7f66d54c",
   "metadata": {},
   "outputs": [],
   "source": [
    "img_name=[]\n",
    "for i in os.listdir(\"images/\"):\n",
    "    img_name.append(i)\n"
   ]
  },
  {
   "cell_type": "code",
   "execution_count": 5,
   "id": "f4e7ff8e",
   "metadata": {},
   "outputs": [
    {
     "ename": "NameError",
     "evalue": "name 'process_image' is not defined",
     "output_type": "error",
     "traceback": [
      "\u001b[1;31m---------------------------------------------------------------------------\u001b[0m",
      "\u001b[1;31mNameError\u001b[0m                                 Traceback (most recent call last)",
      "Cell \u001b[1;32mIn[5], line 2\u001b[0m\n\u001b[0;32m      1\u001b[0m \u001b[38;5;28;01mwith\u001b[39;00m ProcessPoolExecutor() \u001b[38;5;28;01mas\u001b[39;00m executor:\n\u001b[1;32m----> 2\u001b[0m     executor\u001b[38;5;241m.\u001b[39mmap(\u001b[43mprocess_image\u001b[49m,img_name)\n",
      "\u001b[1;31mNameError\u001b[0m: name 'process_image' is not defined"
     ]
    }
   ],
   "source": [
    "with ProcessPoolExecutor() as executor:\n",
    "    executor.map(process_image,img_name)"
   ]
  },
  {
   "cell_type": "code",
   "execution_count": 6,
   "id": "f5e1eb0c",
   "metadata": {},
   "outputs": [
    {
     "name": "stdout",
     "output_type": "stream",
     "text": [
      "proceseda-a-HvG1cGlrA2E-unsplash.jpg\n",
      "procesedadam-miller-dBaz0xhCkPY-unsplash.jpg\n",
      "procesedaditya-saxena-tP7CtZ_2QK8-unsplash.jpg\n",
      "procesedajeet-mestry-UBhpOIHnazM-unsplash.jpg\n",
      "procesedalexander-grey-NkQD-RHhbvY-unsplash.jpg\n",
      "procesedashim-d-silva-Kw_zQBAChws-unsplash.jpg\n",
      "procesedaustin-chan-ukzHlkoz1IE-unsplash.jpg\n",
      "procesedaziz-acharki-H90Af2TFqng-unsplash.jpg\n",
      "procesedc-d-x-PDX_a_82obo-unsplash.jpg\n",
      "procesedchris-lawton-5IHz5WhosQE-unsplash.jpg\n",
      "procesedchris-liverani-YBR-AWm1HQ4-unsplash.jpg\n",
      "procesedcristian-escobar-abkEAOjnY0s-unsplash.jpg\n",
      "proceseddavid-kovalenko-G85VuTpw6jg-unsplash.jpg\n",
      "proceseddavisuko-2FdIvx7sy3U-unsplash.jpg\n",
      "procesedfinn-hackshaw-FQgI8AD-BSg-unsplash.jpg\n",
      "procesedflorian-klauer-nptLmg6jqDo-unsplash.jpg\n",
      "procesedgirl-with-red-hat-pwBlatTLAMA-unsplash.jpg\n",
      "procesedhans-peter-gauster-3y1zF4hIPCg-unsplash.jpg\n",
      "procesedian-dooley-hpTH5b6mo2s-unsplash.jpg\n",
      "procesedjake-blucker-tMzCrBkM99Y-unsplash.jpg\n",
      "procesedjason-leung-Xaanw0s0pMk-unsplash.jpg\n",
      "procesedjeet-dhanoa-y3dqwY0ePWY-unsplash.jpg\n",
      "procesedjk-sloan-co1wmDhPjKg-unsplash.jpg\n",
      "procesedjon-tyson-XmMsdtiGSfo-unsplash.jpg\n",
      "procesedjoshua-earle-ICE__bo2Vws-unsplash.jpg\n",
      "procesedjulia-joppien--3wygakaeQc-unsplash.jpg\n",
      "procesedkamran-abdullayev-ET68RSON-gg-unsplash.jpg\n",
      "procesedkatie-moum-iRMUDX0kyOc-unsplash.jpg\n",
      "procesedkrystal-ng-PrQqQVPzmlw-unsplash.jpg\n",
      "procesedlaura-vinck-Hyu76loQLdk-unsplash.jpg\n",
      "procesedlucas-santos-XIIsv6AshJY-unsplash.jpg\n",
      "procesedmadison-oren-uGP_6CAD-14-unsplash.jpg\n",
      "procesedmatt-artz-PH2Q1aqOARo-unsplash.jpg\n",
      "procesedmelyna-valle-zFbY62KTqwk-unsplash.jpg\n",
      "procesedpark-troopers-RAtKWVlfdf4-unsplash.jpg\n",
      "procesedpossessed-photography-nuc3NFB_6po-unsplash.jpg\n",
      "procesedrandy-tarampi-U2eUlPEKIgU-unsplash.jpg\n",
      "procesedrobert-tudor-BydNJ_dOVYg-unsplash.jpg\n",
      "procesedsahil-sorathiya-YW3F-C5e8SE-unsplash.jpg\n",
      "procesedsaksham-gangwar-BVWD_zX6-Zk-unsplash.jpg\n",
      "procesedstefan-cosma-0gO3-b-5m80-unsplash.jpg\n",
      "procesedtim-mossholder-GOMhuCj-O9w-unsplash.jpg\n",
      "procesedtirza-van-dijk-cNGUw-CEsp0-unsplash.jpg\n",
      "procesedtoa-heftiba-DUXACn8tgp4-unsplash.jpg\n",
      "procesedtyler-easton-faixctm2YRQ-unsplash.jpg\n",
      "procesedvicko-mozara-m82uh_vamhg-unsplash.jpg\n",
      "procesedwarren-bh4LQHcOcxE-unsplash.jpg\n"
     ]
    }
   ],
   "source": [
    "for i in img_name:\n",
    "    ImageProcessor.process_image(i)"
   ]
  },
  {
   "cell_type": "code",
   "execution_count": 8,
   "id": "10409409",
   "metadata": {},
   "outputs": [],
   "source": [
    "image_id=os.urandom(16).hex()"
   ]
  },
  {
   "cell_type": "code",
   "execution_count": 10,
   "id": "c833f2e2",
   "metadata": {},
   "outputs": [
    {
     "data": {
      "text/plain": [
       "str"
      ]
     },
     "execution_count": 10,
     "metadata": {},
     "output_type": "execute_result"
    }
   ],
   "source": [
    "image_id.__class__"
   ]
  },
  {
   "cell_type": "code",
   "execution_count": null,
   "id": "17726c8a",
   "metadata": {},
   "outputs": [],
   "source": []
  }
 ],
 "metadata": {
  "kernelspec": {
   "display_name": "Python 3 (ipykernel)",
   "language": "python",
   "name": "python3"
  },
  "language_info": {
   "codemirror_mode": {
    "name": "ipython",
    "version": 3
   },
   "file_extension": ".py",
   "mimetype": "text/x-python",
   "name": "python",
   "nbconvert_exporter": "python",
   "pygments_lexer": "ipython3",
   "version": "3.11.2"
  }
 },
 "nbformat": 4,
 "nbformat_minor": 5
}
